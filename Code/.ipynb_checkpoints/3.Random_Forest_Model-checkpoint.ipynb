{
 "cells": [
  {
   "cell_type": "code",
   "execution_count": 1,
   "metadata": {
    "_cell_guid": "b1076dfc-b9ad-4769-8c92-a6c4dae69d19",
    "_uuid": "8f2839f25d086af736a60e9eeb907d3b93b6e0e5",
    "execution": {
     "iopub.execute_input": "2022-06-02T22:19:44.365786Z",
     "iopub.status.busy": "2022-06-02T22:19:44.364918Z",
     "iopub.status.idle": "2022-06-02T22:19:44.377685Z",
     "shell.execute_reply": "2022-06-02T22:19:44.376869Z",
     "shell.execute_reply.started": "2022-06-02T22:19:44.365753Z"
    }
   },
   "outputs": [],
   "source": [
    "# This Python 3 environment comes with many helpful analytics libraries installed\n",
    "# It is defined by the kaggle/python Docker image: https://github.com/kaggle/docker-python\n",
    "# For example, here's several helpful packages to load\n",
    "\n",
    "import numpy as np # linear algebra\n",
    "import pandas as pd # data processing, CSV file I/O (e.g. pd.read_csv)\n",
    "\n",
    "# Input data files are available in the read-only \"../input/\" directory\n",
    "# For example, running this (by clicking run or pressing Shift+Enter) will list all files under the input directory\n",
    "\n",
    "import os\n",
    "for dirname, _, filenames in os.walk('/kaggle/input'):\n",
    "    for filename in filenames:\n",
    "        print(os.path.join(dirname, filename))\n",
    "\n",
    "# You can write up to 20GB to the current directory (/kaggle/working/) that gets preserved as output when you create a version using \"Save & Run All\" \n",
    "# You can also write temporary files to /kaggle/temp/, but they won't be saved outside of the current session"
   ]
  },
  {
   "cell_type": "markdown",
   "metadata": {},
   "source": [
    "## RANDOM FOREST MODEL (Berna Basar, Curiosity Team)"
   ]
  },
  {
   "cell_type": "code",
   "execution_count": 2,
   "metadata": {
    "execution": {
     "iopub.execute_input": "2022-06-02T22:20:01.164950Z",
     "iopub.status.busy": "2022-06-02T22:20:01.164599Z",
     "iopub.status.idle": "2022-06-02T22:20:01.953606Z",
     "shell.execute_reply": "2022-06-02T22:20:01.952715Z",
     "shell.execute_reply.started": "2022-06-02T22:20:01.164922Z"
    }
   },
   "outputs": [
    {
     "ename": "FileNotFoundError",
     "evalue": "[Errno 2] No such file or directory: '../input/heartd/data_test.csv'",
     "output_type": "error",
     "traceback": [
      "\u001b[0;31m---------------------------------------------------------------------------\u001b[0m",
      "\u001b[0;31mFileNotFoundError\u001b[0m                         Traceback (most recent call last)",
      "\u001b[0;32m<ipython-input-2-30f8f40a6ad1>\u001b[0m in \u001b[0;36m<module>\u001b[0;34m\u001b[0m\n\u001b[1;32m     16\u001b[0m \u001b[0;32mfrom\u001b[0m \u001b[0msklearn\u001b[0m\u001b[0;34m.\u001b[0m\u001b[0mmetrics\u001b[0m \u001b[0;32mimport\u001b[0m \u001b[0mconfusion_matrix\u001b[0m\u001b[0;34m\u001b[0m\u001b[0;34m\u001b[0m\u001b[0m\n\u001b[1;32m     17\u001b[0m \u001b[0;34m\u001b[0m\u001b[0m\n\u001b[0;32m---> 18\u001b[0;31m \u001b[0mtest_dt\u001b[0m \u001b[0;34m=\u001b[0m \u001b[0mpd\u001b[0m\u001b[0;34m.\u001b[0m\u001b[0mread_csv\u001b[0m\u001b[0;34m(\u001b[0m\u001b[0;34m\"../input/heartd/data_test.csv\"\u001b[0m\u001b[0;34m)\u001b[0m\u001b[0;34m\u001b[0m\u001b[0;34m\u001b[0m\u001b[0m\n\u001b[0m\u001b[1;32m     19\u001b[0m \u001b[0mtrain_dt\u001b[0m \u001b[0;34m=\u001b[0m \u001b[0mpd\u001b[0m\u001b[0;34m.\u001b[0m\u001b[0mread_csv\u001b[0m\u001b[0;34m(\u001b[0m\u001b[0;34m\"../input/heartd/data_train.csv\"\u001b[0m\u001b[0;34m)\u001b[0m\u001b[0;34m\u001b[0m\u001b[0;34m\u001b[0m\u001b[0m\n",
      "\u001b[0;32m~/anaconda3/lib/python3.6/site-packages/pandas/io/parsers.py\u001b[0m in \u001b[0;36mread_csv\u001b[0;34m(filepath_or_buffer, sep, delimiter, header, names, index_col, usecols, squeeze, prefix, mangle_dupe_cols, dtype, engine, converters, true_values, false_values, skipinitialspace, skiprows, skipfooter, nrows, na_values, keep_default_na, na_filter, verbose, skip_blank_lines, parse_dates, infer_datetime_format, keep_date_col, date_parser, dayfirst, cache_dates, iterator, chunksize, compression, thousands, decimal, lineterminator, quotechar, quoting, doublequote, escapechar, comment, encoding, dialect, error_bad_lines, warn_bad_lines, delim_whitespace, low_memory, memory_map, float_precision)\u001b[0m\n\u001b[1;32m    686\u001b[0m     )\n\u001b[1;32m    687\u001b[0m \u001b[0;34m\u001b[0m\u001b[0m\n\u001b[0;32m--> 688\u001b[0;31m     \u001b[0;32mreturn\u001b[0m \u001b[0m_read\u001b[0m\u001b[0;34m(\u001b[0m\u001b[0mfilepath_or_buffer\u001b[0m\u001b[0;34m,\u001b[0m \u001b[0mkwds\u001b[0m\u001b[0;34m)\u001b[0m\u001b[0;34m\u001b[0m\u001b[0;34m\u001b[0m\u001b[0m\n\u001b[0m\u001b[1;32m    689\u001b[0m \u001b[0;34m\u001b[0m\u001b[0m\n\u001b[1;32m    690\u001b[0m \u001b[0;34m\u001b[0m\u001b[0m\n",
      "\u001b[0;32m~/anaconda3/lib/python3.6/site-packages/pandas/io/parsers.py\u001b[0m in \u001b[0;36m_read\u001b[0;34m(filepath_or_buffer, kwds)\u001b[0m\n\u001b[1;32m    452\u001b[0m \u001b[0;34m\u001b[0m\u001b[0m\n\u001b[1;32m    453\u001b[0m     \u001b[0;31m# Create the parser.\u001b[0m\u001b[0;34m\u001b[0m\u001b[0;34m\u001b[0m\u001b[0;34m\u001b[0m\u001b[0m\n\u001b[0;32m--> 454\u001b[0;31m     \u001b[0mparser\u001b[0m \u001b[0;34m=\u001b[0m \u001b[0mTextFileReader\u001b[0m\u001b[0;34m(\u001b[0m\u001b[0mfp_or_buf\u001b[0m\u001b[0;34m,\u001b[0m \u001b[0;34m**\u001b[0m\u001b[0mkwds\u001b[0m\u001b[0;34m)\u001b[0m\u001b[0;34m\u001b[0m\u001b[0;34m\u001b[0m\u001b[0m\n\u001b[0m\u001b[1;32m    455\u001b[0m \u001b[0;34m\u001b[0m\u001b[0m\n\u001b[1;32m    456\u001b[0m     \u001b[0;32mif\u001b[0m \u001b[0mchunksize\u001b[0m \u001b[0;32mor\u001b[0m \u001b[0miterator\u001b[0m\u001b[0;34m:\u001b[0m\u001b[0;34m\u001b[0m\u001b[0;34m\u001b[0m\u001b[0m\n",
      "\u001b[0;32m~/anaconda3/lib/python3.6/site-packages/pandas/io/parsers.py\u001b[0m in \u001b[0;36m__init__\u001b[0;34m(self, f, engine, **kwds)\u001b[0m\n\u001b[1;32m    946\u001b[0m             \u001b[0mself\u001b[0m\u001b[0;34m.\u001b[0m\u001b[0moptions\u001b[0m\u001b[0;34m[\u001b[0m\u001b[0;34m\"has_index_names\"\u001b[0m\u001b[0;34m]\u001b[0m \u001b[0;34m=\u001b[0m \u001b[0mkwds\u001b[0m\u001b[0;34m[\u001b[0m\u001b[0;34m\"has_index_names\"\u001b[0m\u001b[0;34m]\u001b[0m\u001b[0;34m\u001b[0m\u001b[0;34m\u001b[0m\u001b[0m\n\u001b[1;32m    947\u001b[0m \u001b[0;34m\u001b[0m\u001b[0m\n\u001b[0;32m--> 948\u001b[0;31m         \u001b[0mself\u001b[0m\u001b[0;34m.\u001b[0m\u001b[0m_make_engine\u001b[0m\u001b[0;34m(\u001b[0m\u001b[0mself\u001b[0m\u001b[0;34m.\u001b[0m\u001b[0mengine\u001b[0m\u001b[0;34m)\u001b[0m\u001b[0;34m\u001b[0m\u001b[0;34m\u001b[0m\u001b[0m\n\u001b[0m\u001b[1;32m    949\u001b[0m \u001b[0;34m\u001b[0m\u001b[0m\n\u001b[1;32m    950\u001b[0m     \u001b[0;32mdef\u001b[0m \u001b[0mclose\u001b[0m\u001b[0;34m(\u001b[0m\u001b[0mself\u001b[0m\u001b[0;34m)\u001b[0m\u001b[0;34m:\u001b[0m\u001b[0;34m\u001b[0m\u001b[0;34m\u001b[0m\u001b[0m\n",
      "\u001b[0;32m~/anaconda3/lib/python3.6/site-packages/pandas/io/parsers.py\u001b[0m in \u001b[0;36m_make_engine\u001b[0;34m(self, engine)\u001b[0m\n\u001b[1;32m   1178\u001b[0m     \u001b[0;32mdef\u001b[0m \u001b[0m_make_engine\u001b[0m\u001b[0;34m(\u001b[0m\u001b[0mself\u001b[0m\u001b[0;34m,\u001b[0m \u001b[0mengine\u001b[0m\u001b[0;34m=\u001b[0m\u001b[0;34m\"c\"\u001b[0m\u001b[0;34m)\u001b[0m\u001b[0;34m:\u001b[0m\u001b[0;34m\u001b[0m\u001b[0;34m\u001b[0m\u001b[0m\n\u001b[1;32m   1179\u001b[0m         \u001b[0;32mif\u001b[0m \u001b[0mengine\u001b[0m \u001b[0;34m==\u001b[0m \u001b[0;34m\"c\"\u001b[0m\u001b[0;34m:\u001b[0m\u001b[0;34m\u001b[0m\u001b[0;34m\u001b[0m\u001b[0m\n\u001b[0;32m-> 1180\u001b[0;31m             \u001b[0mself\u001b[0m\u001b[0;34m.\u001b[0m\u001b[0m_engine\u001b[0m \u001b[0;34m=\u001b[0m \u001b[0mCParserWrapper\u001b[0m\u001b[0;34m(\u001b[0m\u001b[0mself\u001b[0m\u001b[0;34m.\u001b[0m\u001b[0mf\u001b[0m\u001b[0;34m,\u001b[0m \u001b[0;34m**\u001b[0m\u001b[0mself\u001b[0m\u001b[0;34m.\u001b[0m\u001b[0moptions\u001b[0m\u001b[0;34m)\u001b[0m\u001b[0;34m\u001b[0m\u001b[0;34m\u001b[0m\u001b[0m\n\u001b[0m\u001b[1;32m   1181\u001b[0m         \u001b[0;32melse\u001b[0m\u001b[0;34m:\u001b[0m\u001b[0;34m\u001b[0m\u001b[0;34m\u001b[0m\u001b[0m\n\u001b[1;32m   1182\u001b[0m             \u001b[0;32mif\u001b[0m \u001b[0mengine\u001b[0m \u001b[0;34m==\u001b[0m \u001b[0;34m\"python\"\u001b[0m\u001b[0;34m:\u001b[0m\u001b[0;34m\u001b[0m\u001b[0;34m\u001b[0m\u001b[0m\n",
      "\u001b[0;32m~/anaconda3/lib/python3.6/site-packages/pandas/io/parsers.py\u001b[0m in \u001b[0;36m__init__\u001b[0;34m(self, src, **kwds)\u001b[0m\n\u001b[1;32m   2008\u001b[0m         \u001b[0mkwds\u001b[0m\u001b[0;34m[\u001b[0m\u001b[0;34m\"usecols\"\u001b[0m\u001b[0;34m]\u001b[0m \u001b[0;34m=\u001b[0m \u001b[0mself\u001b[0m\u001b[0;34m.\u001b[0m\u001b[0musecols\u001b[0m\u001b[0;34m\u001b[0m\u001b[0;34m\u001b[0m\u001b[0m\n\u001b[1;32m   2009\u001b[0m \u001b[0;34m\u001b[0m\u001b[0m\n\u001b[0;32m-> 2010\u001b[0;31m         \u001b[0mself\u001b[0m\u001b[0;34m.\u001b[0m\u001b[0m_reader\u001b[0m \u001b[0;34m=\u001b[0m \u001b[0mparsers\u001b[0m\u001b[0;34m.\u001b[0m\u001b[0mTextReader\u001b[0m\u001b[0;34m(\u001b[0m\u001b[0msrc\u001b[0m\u001b[0;34m,\u001b[0m \u001b[0;34m**\u001b[0m\u001b[0mkwds\u001b[0m\u001b[0;34m)\u001b[0m\u001b[0;34m\u001b[0m\u001b[0;34m\u001b[0m\u001b[0m\n\u001b[0m\u001b[1;32m   2011\u001b[0m         \u001b[0mself\u001b[0m\u001b[0;34m.\u001b[0m\u001b[0munnamed_cols\u001b[0m \u001b[0;34m=\u001b[0m \u001b[0mself\u001b[0m\u001b[0;34m.\u001b[0m\u001b[0m_reader\u001b[0m\u001b[0;34m.\u001b[0m\u001b[0munnamed_cols\u001b[0m\u001b[0;34m\u001b[0m\u001b[0;34m\u001b[0m\u001b[0m\n\u001b[1;32m   2012\u001b[0m \u001b[0;34m\u001b[0m\u001b[0m\n",
      "\u001b[0;32mpandas/_libs/parsers.pyx\u001b[0m in \u001b[0;36mpandas._libs.parsers.TextReader.__cinit__\u001b[0;34m()\u001b[0m\n",
      "\u001b[0;32mpandas/_libs/parsers.pyx\u001b[0m in \u001b[0;36mpandas._libs.parsers.TextReader._setup_parser_source\u001b[0;34m()\u001b[0m\n",
      "\u001b[0;31mFileNotFoundError\u001b[0m: [Errno 2] No such file or directory: '../input/heartd/data_test.csv'"
     ]
    }
   ],
   "source": [
    "import numpy as np \n",
    "import pandas as pd \n",
    "import matplotlib.pyplot as plt\n",
    "import seaborn as sns\n",
    "import statistics\n",
    "from sklearn.metrics import mean_absolute_error\n",
    "from sklearn.inspection import permutation_importance # computing feature importance\n",
    "from sklearn.ensemble import RandomForestClassifier\n",
    "from scipy.stats.stats import pearsonr\n",
    "from pandas.plotting import scatter_matrix\n",
    "from sklearn.preprocessing import OneHotEncoder\n",
    "from sklearn.compose import make_column_transformer\n",
    "from seaborn import load_dataset\n",
    "import seaborn as sns\n",
    "from sklearn.metrics import classification_report\n",
    "from sklearn.metrics import confusion_matrix\n",
    "\n",
    "test_dt = pd.read_csv(\"../input/heartd/data_test.csv\")\n",
    "train_dt = pd.read_csv(\"../input/heartd/data_train.csv\")"
   ]
  },
  {
   "cell_type": "code",
   "execution_count": null,
   "metadata": {
    "execution": {
     "iopub.execute_input": "2022-06-02T22:20:10.737153Z",
     "iopub.status.busy": "2022-06-02T22:20:10.736790Z",
     "iopub.status.idle": "2022-06-02T22:20:10.755856Z",
     "shell.execute_reply": "2022-06-02T22:20:10.754866Z",
     "shell.execute_reply.started": "2022-06-02T22:20:10.737125Z"
    }
   },
   "outputs": [],
   "source": [
    "train_dt.head()"
   ]
  },
  {
   "cell_type": "markdown",
   "metadata": {},
   "source": [
    "### **Column Descriptions**\n",
    "##### **HeartDisease:** Respondents that have ever reported having coronary heart disease (CHD) or myocardial infarction (MI).\n",
    "##### **BMI:** Body Mass Index (BMI).\n",
    "##### **Smoking:** Have you smoked at least 100 cigarettes in your entire life?\n",
    "##### **AlcoholDrinking:** Heavy drinkers (adult men having more than 14 drinks per week and adult women having more than 7 drinks per week\n",
    "##### **Stroke: **(Ever told) (you had) a stroke?\n",
    "##### **PhysicalHealth:** Now thinking about your physical health, which includes physical illness and injury, for how many days during the past 30 days was your physical health not good? (0-30 days).\n",
    "##### **MentalHealth:** Thinking about your mental health, for how many days during the past 30 days was your mental health not good? (0-30 days).\n",
    "##### **DiffWalking:** Do you have serious difficulty walking or climbing stairs?\n",
    "##### **Sex:** Are you male or female?\n",
    "##### **AgeCategory:** Fourteen-level age category. (then calculated the mean)\n",
    "##### **Race:** Imputed race/ethnicity value.\n",
    "##### **Diabetic:** (Ever told) (you had) diabetes?\n",
    "##### **PhysicalActivity:** Adults who reported doing physical activity or exercise during the past 30 days other than their regular job.\n",
    "##### **GenHealth:** Would you say that in general your health is...\n",
    "##### **SleepTime:** On average, how many hours of sleep do you get in a 24-hour period?\n",
    "##### **Asthma:** (Ever told) (you had) asthma?\n",
    "##### **KidneyDisease:** Not including kidney stones, bladder infection or incontinence, were you ever told you had kidney disease?\n",
    "##### **SkinCancer:** (Ever told) (you had) skin cancer?"
   ]
  },
  {
   "cell_type": "code",
   "execution_count": 8,
   "metadata": {
    "execution": {
     "iopub.execute_input": "2022-06-02T22:20:17.726966Z",
     "iopub.status.busy": "2022-06-02T22:20:17.726590Z",
     "iopub.status.idle": "2022-06-02T22:20:17.789092Z",
     "shell.execute_reply": "2022-06-02T22:20:17.788229Z",
     "shell.execute_reply.started": "2022-06-02T22:20:17.726936Z"
    }
   },
   "outputs": [],
   "source": [
    "print('\\033[1m' + '# of Rows in Train Data:', len(train_dt))\n",
    "print('HeartDisease Column Count in Train Data:' '\\n', train_dt['HeartDisease'].value_counts())\n",
    "print('\\n')\n",
    "print('# of Rows in Test Data:', len(test_dt))\n",
    "print('HeartDisease Column Count in Test Data:' '\\n', test_dt['HeartDisease'].value_counts())"
   ]
  },
  {
   "cell_type": "markdown",
   "metadata": {},
   "source": [
    "## EXPLORATORY DATA ANALYSIS"
   ]
  },
  {
   "cell_type": "code",
   "execution_count": 9,
   "metadata": {
    "execution": {
     "iopub.execute_input": "2022-06-02T22:20:30.129773Z",
     "iopub.status.busy": "2022-06-02T22:20:30.129430Z",
     "iopub.status.idle": "2022-06-02T22:20:30.552698Z",
     "shell.execute_reply": "2022-06-02T22:20:30.551357Z",
     "shell.execute_reply.started": "2022-06-02T22:20:30.129743Z"
    }
   },
   "outputs": [],
   "source": [
    "# Checking whether there are any missing values\n",
    "print(train_dt.info())\n",
    "print('\\n')\n",
    "print(test_dt.info())"
   ]
  },
  {
   "cell_type": "code",
   "execution_count": 10,
   "metadata": {
    "execution": {
     "iopub.execute_input": "2022-06-02T22:20:34.395880Z",
     "iopub.status.busy": "2022-06-02T22:20:34.395528Z",
     "iopub.status.idle": "2022-06-02T22:20:34.457856Z",
     "shell.execute_reply": "2022-06-02T22:20:34.457074Z",
     "shell.execute_reply.started": "2022-06-02T22:20:34.395850Z"
    }
   },
   "outputs": [],
   "source": [
    "# Checking descriptive statistics for numerical values\n",
    "print(train_dt.describe())\n",
    "print('\\n')\n",
    "print(test_dt.describe())"
   ]
  },
  {
   "cell_type": "code",
   "execution_count": 11,
   "metadata": {
    "execution": {
     "iopub.execute_input": "2022-06-02T22:20:38.852329Z",
     "iopub.status.busy": "2022-06-02T22:20:38.851826Z",
     "iopub.status.idle": "2022-06-02T22:20:39.886768Z",
     "shell.execute_reply": "2022-06-02T22:20:39.885909Z",
     "shell.execute_reply.started": "2022-06-02T22:20:38.852287Z"
    }
   },
   "outputs": [],
   "source": [
    "train_dt.describe(include=[np.object])"
   ]
  },
  {
   "cell_type": "code",
   "execution_count": 12,
   "metadata": {
    "execution": {
     "iopub.execute_input": "2022-06-02T22:20:54.926530Z",
     "iopub.status.busy": "2022-06-02T22:20:54.925924Z",
     "iopub.status.idle": "2022-06-02T22:20:56.401310Z",
     "shell.execute_reply": "2022-06-02T22:20:56.400487Z",
     "shell.execute_reply.started": "2022-06-02T22:20:54.926493Z"
    }
   },
   "outputs": [],
   "source": [
    "%matplotlib inline\n",
    "fig, ax = plt.subplots(2, 2, figsize = (12, 8), tight_layout=True)\n",
    "train_dt.hist(column= [\"MentalHealth\"], ax=ax[0][0], color='orange')\n",
    "train_dt.hist(column= ['SleepTime'], ax=ax[0][1], color='lightblue')\n",
    "train_dt.boxplot(column= [\"MentalHealth\"], ax=ax[1][0])\n",
    "train_dt.boxplot(column= ['SleepTime'], ax=ax[1][1])"
   ]
  },
  {
   "cell_type": "code",
   "execution_count": 14,
   "metadata": {
    "execution": {
     "iopub.execute_input": "2022-06-02T22:21:04.435925Z",
     "iopub.status.busy": "2022-06-02T22:21:04.435574Z",
     "iopub.status.idle": "2022-06-02T22:21:04.444074Z",
     "shell.execute_reply": "2022-06-02T22:21:04.443190Z",
     "shell.execute_reply.started": "2022-06-02T22:21:04.435897Z"
    }
   },
   "outputs": [],
   "source": [
    "numeric_var = train_dt[['BMI', 'PhysicalHealth', 'MentalHealth', 'SleepTime']]"
   ]
  },
  {
   "cell_type": "code",
   "execution_count": 15,
   "metadata": {
    "execution": {
     "iopub.execute_input": "2022-06-02T22:21:07.325745Z",
     "iopub.status.busy": "2022-06-02T22:21:07.325406Z",
     "iopub.status.idle": "2022-06-02T22:21:21.769626Z",
     "shell.execute_reply": "2022-06-02T22:21:21.768842Z",
     "shell.execute_reply.started": "2022-06-02T22:21:07.325717Z"
    }
   },
   "outputs": [],
   "source": [
    "# Bivariate analysis \n",
    "%matplotlib inline\n",
    "plt.figure(figsize = (16,8))\n",
    "for i in numeric_var:\n",
    "    sns.catplot(y = i ,x = 'HeartDisease',data = train_dt,kind = 'bar')"
   ]
  },
  {
   "cell_type": "code",
   "execution_count": 16,
   "metadata": {
    "execution": {
     "iopub.execute_input": "2022-06-02T22:21:27.005229Z",
     "iopub.status.busy": "2022-06-02T22:21:27.004848Z",
     "iopub.status.idle": "2022-06-02T22:21:27.087215Z",
     "shell.execute_reply": "2022-06-02T22:21:27.086321Z",
     "shell.execute_reply.started": "2022-06-02T22:21:27.005198Z"
    }
   },
   "outputs": [],
   "source": [
    "corr = numeric_var.corr()\n",
    "corr.style.background_gradient(cmap='coolwarm')"
   ]
  },
  {
   "cell_type": "code",
   "execution_count": 17,
   "metadata": {
    "execution": {
     "iopub.execute_input": "2022-06-02T22:21:30.608069Z",
     "iopub.status.busy": "2022-06-02T22:21:30.607704Z",
     "iopub.status.idle": "2022-06-02T22:21:31.293420Z",
     "shell.execute_reply": "2022-06-02T22:21:31.291200Z",
     "shell.execute_reply.started": "2022-06-02T22:21:30.608038Z"
    }
   },
   "outputs": [],
   "source": [
    "train_dt.plot(kind=\"scatter\", x=\"MentalHealth\", y=\"PhysicalHealth\",\n",
    "alpha=0.1)"
   ]
  },
  {
   "cell_type": "code",
   "execution_count": 18,
   "metadata": {
    "execution": {
     "iopub.execute_input": "2022-06-02T22:21:34.263885Z",
     "iopub.status.busy": "2022-06-02T22:21:34.263529Z",
     "iopub.status.idle": "2022-06-02T22:21:36.615644Z",
     "shell.execute_reply": "2022-06-02T22:21:36.614690Z",
     "shell.execute_reply.started": "2022-06-02T22:21:34.263855Z"
    }
   },
   "outputs": [],
   "source": [
    "# Crosstabulations for categorical variables \n",
    "\n",
    "print(pd.crosstab(train_dt['Smoking'], train_dt['HeartDisease'],margins=True))\n",
    "print('\\n')\n",
    "print(pd.crosstab(train_dt['AlcoholDrinking'], train_dt['HeartDisease'],margins=True))\n",
    "print('\\n')\n",
    "print(pd.crosstab(train_dt['Stroke'], train_dt['HeartDisease'],margins=True))\n",
    "print('\\n')\n",
    "print(pd.crosstab(train_dt['DiffWalking'], train_dt['HeartDisease'],margins=True))\n",
    "print('\\n')\n",
    "print(pd.crosstab(train_dt['Sex'], train_dt['HeartDisease'],margins=True))\n",
    "print('\\n')\n",
    "print(pd.crosstab(train_dt['AgeCategory'], train_dt['HeartDisease'],margins=True))\n",
    "print('\\n')\n",
    "print(pd.crosstab(train_dt['Race'], train_dt['HeartDisease'],margins=True))\n",
    "print('\\n')\n",
    "print(pd.crosstab(train_dt['Diabetic'], train_dt['HeartDisease'],margins=True))\n",
    "print('\\n')\n",
    "print(pd.crosstab(train_dt['PhysicalActivity'], train_dt['HeartDisease'],margins=True))\n",
    "print('\\n')\n",
    "print(pd.crosstab(train_dt['GenHealth'], train_dt['HeartDisease'],margins=True))\n",
    "print('\\n')\n",
    "print(pd.crosstab(train_dt['Asthma'], train_dt['HeartDisease'],margins=True))\n",
    "print('\\n')\n",
    "print(pd.crosstab(train_dt['KidneyDisease'], train_dt['HeartDisease'],margins=True))\n",
    "print('\\n')\n",
    "print(pd.crosstab(train_dt['SkinCancer'], train_dt['HeartDisease'],margins=True))"
   ]
  },
  {
   "cell_type": "code",
   "execution_count": 19,
   "metadata": {
    "execution": {
     "iopub.execute_input": "2022-06-02T22:21:44.197522Z",
     "iopub.status.busy": "2022-06-02T22:21:44.197178Z",
     "iopub.status.idle": "2022-06-02T22:21:44.630757Z",
     "shell.execute_reply": "2022-06-02T22:21:44.629974Z",
     "shell.execute_reply.started": "2022-06-02T22:21:44.197495Z"
    }
   },
   "outputs": [],
   "source": [
    "#Recoding the Diabetic column\n",
    "train_dt.replace('Yes (during pregnancy)', 'Yes', inplace=True)\n",
    "train_dt.replace('No, borderline diabetes', 'No', inplace=True)\n",
    "print('Train data value counts for Diabetic columns:''\\n', train_dt['Diabetic'].value_counts())\n",
    "print('\\n')\n",
    "test_dt.replace('Yes (during pregnancy)', 'Yes', inplace=True)\n",
    "test_dt.replace('No, borderline diabetes', 'No', inplace=True)\n",
    "print('Test data value counts for Diabetic columns:''\\n', train_dt['Diabetic'].value_counts())"
   ]
  },
  {
   "cell_type": "code",
   "execution_count": 20,
   "metadata": {
    "execution": {
     "iopub.execute_input": "2022-06-02T22:21:47.906646Z",
     "iopub.status.busy": "2022-06-02T22:21:47.906259Z",
     "iopub.status.idle": "2022-06-02T22:21:47.912706Z",
     "shell.execute_reply": "2022-06-02T22:21:47.911593Z",
     "shell.execute_reply.started": "2022-06-02T22:21:47.906606Z"
    }
   },
   "outputs": [],
   "source": [
    "# Getting the list of categorical variables\n",
    "s = (train_dt.dtypes == 'object')\n",
    "object_cols = list(s[s].index)\n",
    "\n",
    "print(\"Categorical variables:\")\n",
    "print(object_cols)"
   ]
  },
  {
   "cell_type": "code",
   "execution_count": 21,
   "metadata": {
    "execution": {
     "iopub.execute_input": "2022-06-02T22:21:50.546596Z",
     "iopub.status.busy": "2022-06-02T22:21:50.546259Z",
     "iopub.status.idle": "2022-06-02T22:21:52.145053Z",
     "shell.execute_reply": "2022-06-02T22:21:52.144102Z",
     "shell.execute_reply.started": "2022-06-02T22:21:50.546569Z"
    }
   },
   "outputs": [],
   "source": [
    "# Apply one-hot encoder to each column with categorical data\n",
    "OH_encoder = OneHotEncoder(handle_unknown='ignore', sparse=False)\n",
    "OH_cols_train = pd.DataFrame(OH_encoder.fit_transform(train_dt[object_cols]))\n",
    "OH_cols_train"
   ]
  },
  {
   "cell_type": "code",
   "execution_count": 22,
   "metadata": {
    "execution": {
     "iopub.execute_input": "2022-06-02T22:21:55.385774Z",
     "iopub.status.busy": "2022-06-02T22:21:55.384883Z",
     "iopub.status.idle": "2022-06-02T22:21:55.736933Z",
     "shell.execute_reply": "2022-06-02T22:21:55.736122Z",
     "shell.execute_reply.started": "2022-06-02T22:21:55.385728Z"
    }
   },
   "outputs": [],
   "source": [
    "# Apply one-hot encoder to each column with categorical data\n",
    "OH_cols_test = pd.DataFrame(OH_encoder.fit_transform(test_dt[object_cols]))\n",
    "OH_cols_test"
   ]
  },
  {
   "cell_type": "code",
   "execution_count": 23,
   "metadata": {
    "execution": {
     "iopub.execute_input": "2022-06-02T22:21:59.727704Z",
     "iopub.status.busy": "2022-06-02T22:21:59.727089Z",
     "iopub.status.idle": "2022-06-02T22:21:59.734224Z",
     "shell.execute_reply": "2022-06-02T22:21:59.733476Z",
     "shell.execute_reply.started": "2022-06-02T22:21:59.727671Z"
    }
   },
   "outputs": [],
   "source": [
    "# Getting column names for train data\n",
    "OH_encoder.get_feature_names_out()\n",
    "OH_cols_train.columns = OH_encoder.get_feature_names_out()\n",
    "print('Train data:', OH_cols_train.columns)\n",
    "\n",
    "print('\\n')\n",
    "# Getting column names for test data\n",
    "OH_cols_test.columns = OH_encoder.get_feature_names_out()\n",
    "print('Test data:', OH_cols_test.columns)\n"
   ]
  },
  {
   "cell_type": "code",
   "execution_count": 24,
   "metadata": {
    "execution": {
     "iopub.execute_input": "2022-06-02T22:22:03.515428Z",
     "iopub.status.busy": "2022-06-02T22:22:03.514862Z",
     "iopub.status.idle": "2022-06-02T22:22:03.543034Z",
     "shell.execute_reply": "2022-06-02T22:22:03.541698Z",
     "shell.execute_reply.started": "2022-06-02T22:22:03.515394Z"
    }
   },
   "outputs": [],
   "source": [
    "# Removing categorical columns (will replace with one-hot encoding)\n",
    "train_dt.drop(labels=None, axis=1, columns=object_cols, level=None, inplace=True, errors='ignore')\n",
    "print(train_dt)\n",
    "print('\\n')\n",
    "test_dt.drop(labels=None, axis=1, columns=object_cols, level=None, inplace=True, errors='ignore')\n",
    "print(train_dt)"
   ]
  },
  {
   "cell_type": "code",
   "execution_count": 25,
   "metadata": {
    "execution": {
     "iopub.execute_input": "2022-06-02T22:22:07.296774Z",
     "iopub.status.busy": "2022-06-02T22:22:07.296088Z",
     "iopub.status.idle": "2022-06-02T22:22:07.514878Z",
     "shell.execute_reply": "2022-06-02T22:22:07.513592Z",
     "shell.execute_reply.started": "2022-06-02T22:22:07.296741Z"
    }
   },
   "outputs": [],
   "source": [
    "# Add one-hot encoded columns to numerical features\n",
    "OH_train = pd.concat([train_dt, OH_cols_train], axis=1)\n",
    "OH_test = pd.concat([test_dt, OH_cols_test], axis=1)\n",
    "OH_train"
   ]
  },
  {
   "cell_type": "code",
   "execution_count": 26,
   "metadata": {
    "execution": {
     "iopub.execute_input": "2022-06-02T22:22:14.091863Z",
     "iopub.status.busy": "2022-06-02T22:22:14.091336Z",
     "iopub.status.idle": "2022-06-02T22:22:14.243858Z",
     "shell.execute_reply": "2022-06-02T22:22:14.242920Z",
     "shell.execute_reply.started": "2022-06-02T22:22:14.091830Z"
    }
   },
   "outputs": [],
   "source": [
    "#Defining the feature and outcome variables both for test and train data\n",
    "X_train = OH_train.drop(['HeartDisease_No', 'HeartDisease_Yes'], axis=1)\n",
    "Y_train = OH_train['HeartDisease_Yes']\n",
    "X_test = OH_test.drop(['HeartDisease_No', 'HeartDisease_Yes'], axis=1)\n",
    "Y_test = OH_test['HeartDisease_Yes']\n",
    "print(X_train)\n",
    "print(Y_train)"
   ]
  },
  {
   "cell_type": "code",
   "execution_count": 27,
   "metadata": {
    "execution": {
     "iopub.execute_input": "2022-06-02T22:22:18.406516Z",
     "iopub.status.busy": "2022-06-02T22:22:18.405968Z",
     "iopub.status.idle": "2022-06-02T22:22:18.421137Z",
     "shell.execute_reply": "2022-06-02T22:22:18.420216Z",
     "shell.execute_reply.started": "2022-06-02T22:22:18.406481Z"
    }
   },
   "outputs": [],
   "source": [
    "# Checking counts of the outcome variable\n",
    "print(Y_train.value_counts())\n",
    "print(Y_test.value_counts())"
   ]
  },
  {
   "cell_type": "markdown",
   "metadata": {},
   "source": [
    "## Random Forest "
   ]
  },
  {
   "cell_type": "code",
   "execution_count": 61,
   "metadata": {
    "execution": {
     "iopub.execute_input": "2022-06-02T22:31:29.010128Z",
     "iopub.status.busy": "2022-06-02T22:31:29.009747Z",
     "iopub.status.idle": "2022-06-02T22:31:35.540264Z",
     "shell.execute_reply": "2022-06-02T22:31:35.539432Z",
     "shell.execute_reply.started": "2022-06-02T22:31:29.010097Z"
    }
   },
   "outputs": [],
   "source": [
    "# Random Forest\n",
    "Rf = RandomForestClassifier(n_estimators = 40, max_depth= 12, random_state=0,class_weight=\"balanced\")\n",
    "Rf.fit(X_train, Y_train)\n",
    "Rf_pred = Rf.predict(X_test)\n",
    "conf_mat = confusion_matrix(Y_test, Rf_pred, labels=[0, 1], normalize=None)\n",
    "print(conf_mat)"
   ]
  },
  {
   "cell_type": "code",
   "execution_count": 62,
   "metadata": {
    "execution": {
     "iopub.execute_input": "2022-06-02T22:31:38.311185Z",
     "iopub.status.busy": "2022-06-02T22:31:38.310820Z",
     "iopub.status.idle": "2022-06-02T22:31:38.571594Z",
     "shell.execute_reply": "2022-06-02T22:31:38.570875Z",
     "shell.execute_reply.started": "2022-06-02T22:31:38.311149Z"
    }
   },
   "outputs": [],
   "source": [
    "from sklearn.metrics import ConfusionMatrixDisplay\n",
    "ConfusionMatrixDisplay.from_predictions(Y_test, Rf_pred)\n",
    "plt.show()"
   ]
  },
  {
   "cell_type": "code",
   "execution_count": 63,
   "metadata": {
    "execution": {
     "iopub.execute_input": "2022-06-02T22:31:41.301038Z",
     "iopub.status.busy": "2022-06-02T22:31:41.300093Z",
     "iopub.status.idle": "2022-06-02T22:31:41.513557Z",
     "shell.execute_reply": "2022-06-02T22:31:41.512811Z",
     "shell.execute_reply.started": "2022-06-02T22:31:41.300967Z"
    }
   },
   "outputs": [],
   "source": [
    "ax = sns.heatmap(conf_mat/np.sum(conf_mat), annot=True, \n",
    "            fmt='.2%', cmap='Blues')\n",
    "\n",
    "ax.set_title('Seaborn Confusion Matrix with labels\\n\\n');\n",
    "ax.set_xlabel('\\nPredicted Values')\n",
    "ax.set_ylabel('Actual Values ');\n",
    "\n",
    "## Ticket labels - List must be in alphabetical order\n",
    "ax.xaxis.set_ticklabels(['False','True'])\n",
    "ax.yaxis.set_ticklabels(['False','True'])\n",
    "\n",
    "## Display the visualization of the Confusion Matrix.\n",
    "plt.show()"
   ]
  },
  {
   "cell_type": "code",
   "execution_count": 64,
   "metadata": {
    "execution": {
     "iopub.execute_input": "2022-06-02T22:31:44.429941Z",
     "iopub.status.busy": "2022-06-02T22:31:44.429156Z",
     "iopub.status.idle": "2022-06-02T22:31:44.567562Z",
     "shell.execute_reply": "2022-06-02T22:31:44.566703Z",
     "shell.execute_reply.started": "2022-06-02T22:31:44.429891Z"
    }
   },
   "outputs": [],
   "source": [
    "print(classification_report(Y_test, Rf_pred))"
   ]
  }
 ],
 "metadata": {
  "kernelspec": {
   "display_name": "Python 3",
   "language": "python",
   "name": "python3"
  },
  "language_info": {
   "codemirror_mode": {
    "name": "ipython",
    "version": 3
   },
   "file_extension": ".py",
   "mimetype": "text/x-python",
   "name": "python",
   "nbconvert_exporter": "python",
   "pygments_lexer": "ipython3",
   "version": "3.6.8"
  }
 },
 "nbformat": 4,
 "nbformat_minor": 4
}
